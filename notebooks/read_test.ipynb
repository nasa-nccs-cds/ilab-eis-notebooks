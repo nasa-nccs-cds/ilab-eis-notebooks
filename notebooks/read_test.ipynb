{
 "cells": [
  {
   "cell_type": "code",
   "execution_count": null,
   "outputs": [],
   "source": [
    "from eis.lis.data.routing import LISRoutingData\n",
    "import time, geoviews as gv\n",
    "import xarray as xa\n",
    "gv.extension('bokeh')"
   ],
   "metadata": {
    "collapsed": false,
    "pycharm": {
     "name": "#%%\n"
    }
   }
  },
  {
   "cell_type": "code",
   "execution_count": null,
   "outputs": [],
   "source": [
    "bucket = 'eis-dh-hydro'\n",
    "routing_key = 'LIS/OL_1km/ROUTING/LIS_HIST.d01'\n",
    "varname = \"Streamflow_tavg\"\n",
    "cache_dir = \"/home/jovyan/.eis_smce/cache\"\n",
    "cache_file_name = routing_key.replace(\"/\",\".\")\n",
    "cache_file_path = f\"{cache_dir}/{cache_file_name}.nc\""
   ],
   "metadata": {
    "collapsed": false,
    "pycharm": {
     "name": "#%%\n"
    }
   }
  },
  {
   "cell_type": "code",
   "execution_count": null,
   "outputs": [],
   "source": [
    "routing_dataset = LISRoutingData.from_smce( bucket, routing_key )\n",
    "dset = routing_dataset.dset"
   ],
   "metadata": {
    "collapsed": false,
    "pycharm": {
     "name": "#%%\n"
    }
   }
  },
  {
   "cell_type": "code",
   "execution_count": null,
   "outputs": [],
   "source": [
    "t0 = time.time()\n",
    "\n",
    "var_zarr_dset: xa.Dataset = dset.drop_vars( [ vname for vname in dset.variables.keys() if vname != varname ] )\n",
    "var_zarr_dset.to_netcdf( cache_file_path, compute=True )\n",
    "\n",
    "print( f\"Data cache completed in {time.time()-t0} sec\")\n"
   ],
   "metadata": {
    "collapsed": false,
    "pycharm": {
     "name": "#%%\n"
    }
   }
  },
  {
   "cell_type": "code",
   "execution_count": null,
   "outputs": [],
   "source": [
    "t0 = time.time()\n",
    "var_dset = xa.open_dataset( cache_file_path )\n",
    "t1 = time.time()\n",
    "result = var_dset.isel( dict(lat=1020, lon=1020) )\n",
    "result.compute()\n",
    "\n",
    "print( f\"Timsesries read completed in {time.time()-t1} sec ( Open in {t1-t0} sec )\" )\n"
   ],
   "metadata": {
    "collapsed": false,
    "pycharm": {
     "name": "#%%\n"
    }
   }
  }
 ],
 "metadata": {
  "kernelspec": {
   "display_name": "Python 3",
   "language": "python",
   "name": "python3"
  },
  "language_info": {
   "codemirror_mode": {
    "name": "ipython",
    "version": 2
   },
   "file_extension": ".py",
   "mimetype": "text/x-python",
   "name": "python",
   "nbconvert_exporter": "python",
   "pygments_lexer": "ipython2",
   "version": "2.7.6"
  }
 },
 "nbformat": 4,
 "nbformat_minor": 0
}