{
 "cells": [
  {
   "cell_type": "code",
   "execution_count": null,
   "outputs": [],
   "source": [
    "from eis.lis.data.routing import LISRoutingData\n",
    "import time, geoviews as gv\n",
    "gv.extension('bokeh')"
   ],
   "metadata": {
    "collapsed": false,
    "pycharm": {
     "name": "#%%\n"
    }
   }
  },
  {
   "cell_type": "code",
   "execution_count": null,
   "outputs": [],
   "source": [
    "bucket = 'eis-dh-hydro'\n",
    "routing_key = 'LIS/OL_1km/ROUTING/LIS_HIST.d01'\n",
    "vname = \"Streamflow_tavg\""
   ],
   "metadata": {
    "collapsed": false,
    "pycharm": {
     "name": "#%%\n"
    }
   }
  },
  {
   "cell_type": "code",
   "execution_count": null,
   "outputs": [],
   "source": [
    "routing_dataset = LISRoutingData.from_smce( bucket, routing_key )\n",
    "dset = routing_dataset.dset"
   ],
   "metadata": {
    "collapsed": false,
    "pycharm": {
     "name": "#%%\n"
    }
   }
  },
  {
   "cell_type": "code",
   "execution_count": null,
   "outputs": [],
   "source": [
    "t0 = time.time()\n",
    "\n",
    "result = dset[vname].isel( dict(lat=1000, lon=1000) )\n",
    "result.cache()\n",
    "\n",
    "print( f\"Data read completed in {time.time()-t0} sec\")\n"
   ],
   "metadata": {
    "collapsed": false,
    "pycharm": {
     "name": "#%%\n"
    }
   }
  },
  {
   "cell_type": "code",
   "execution_count": null,
   "outputs": [],
   "source": [
    "t0 = time.time()\n",
    "\n",
    "result = dset[vname].isel( dict(lat=1020, lon=1020) )\n",
    "result.cache()\n",
    "\n",
    "print( f\"Data read completed in {time.time()-t0} sec\")\n"
   ],
   "metadata": {
    "collapsed": false,
    "pycharm": {
     "name": "#%%\n"
    }
   }
  }
 ],
 "metadata": {
  "kernelspec": {
   "display_name": "Python 3",
   "language": "python",
   "name": "python3"
  },
  "language_info": {
   "codemirror_mode": {
    "name": "ipython",
    "version": 2
   },
   "file_extension": ".py",
   "mimetype": "text/x-python",
   "name": "python",
   "nbconvert_exporter": "python",
   "pygments_lexer": "ipython2",
   "version": "2.7.6"
  }
 },
 "nbformat": 4,
 "nbformat_minor": 0
}