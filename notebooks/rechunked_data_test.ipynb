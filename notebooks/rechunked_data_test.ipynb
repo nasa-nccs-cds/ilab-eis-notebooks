{
 "cells": [
  {
   "cell_type": "code",
   "execution_count": null,
   "metadata": {
    "collapsed": true
   },
   "outputs": [],
   "source": [
    "from eis.smce import eis3, exception_handled\n",
    "import s3fs, logging, os, socket, traceback\n",
    "from glob import glob\n",
    "import numpy as np\n",
    "from typing import List, Union, Dict, Callable, Tuple, Optional, Any, Type, Mapping, Hashable\n",
    "import xarray as xr\n",
    "\n",
    "s3 = s3fs.S3FileSystem( anon=False )\n",
    "rechunked_data = \"s3://eis-dh-hydro/rechunk/LIS/OL_1km/ROUTING/LIS_HIST.d01.zarr\"\n",
    "dset = xr.open_zarr( s3.get_mapper( rechunked_data ), consolidated=True )\n",
    "dset\n"
   ]
  }
 ],
 "metadata": {
  "kernelspec": {
   "display_name": "Python 3",
   "language": "python",
   "name": "python3"
  },
  "language_info": {
   "codemirror_mode": {
    "name": "ipython",
    "version": 2
   },
   "file_extension": ".py",
   "mimetype": "text/x-python",
   "name": "python",
   "nbconvert_exporter": "python",
   "pygments_lexer": "ipython2",
   "version": "2.7.6"
  }
 },
 "nbformat": 4,
 "nbformat_minor": 0
}