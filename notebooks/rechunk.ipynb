{
 "cells": [
  {
   "cell_type": "code",
   "execution_count": null,
   "metadata": {
    "collapsed": true
   },
   "outputs": [],
   "source": [
    "import os\n",
    "from eis.rechunk import Rechunker\n",
    "from eis.cluster import dcm\n",
    "dcm().init_cluster( processes=True )"
   ]
  },
  {
   "cell_type": "code",
   "execution_count": null,
   "outputs": [],
   "source": [
    "bucket      = 'eis-dh-hydro'\n",
    "input_routing_key = 'LIS/OL_1km/ROUTING/LIS_HIST.d01'\n",
    "output_routing_key = 'LIS/rechunk/OL_1km/ROUTING/LIS_HIST.d01'\n",
    "output_path = f\"s3://{bucket}/{output_routing_key}\"\n",
    "cache_dir   = os.path.expanduser( \"~/efs/cache/temp\" )\n",
    "\n",
    "chunk_sizes = dict( time=100, east_west=100, north_south=100 )\n",
    "max_memory  = 200     # Max memory per worker in MB\n",
    "\n",
    "rechunker = Rechunker.from_smce( bucket, input_routing_key )\n",
    "rechunker.dset"
   ],
   "metadata": {
    "collapsed": false,
    "pycharm": {
     "name": "#%%\n"
    }
   }
  },
  {
   "cell_type": "code",
   "execution_count": null,
   "outputs": [],
   "source": [
    "rechunker.rechunk( chunk_sizes, target_store=output_path, temp_dir=cache_dir, max_memory=max_memory )\n"
   ],
   "metadata": {
    "collapsed": false,
    "pycharm": {
     "name": "#%%\n"
    }
   }
  }
 ],
 "metadata": {
  "kernelspec": {
   "display_name": "Python 3",
   "language": "python",
   "name": "python3"
  },
  "language_info": {
   "codemirror_mode": {
    "name": "ipython",
    "version": 2
   },
   "file_extension": ".py",
   "mimetype": "text/x-python",
   "name": "python",
   "nbconvert_exporter": "python",
   "pygments_lexer": "ipython2",
   "version": "2.7.6"
  }
 },
 "nbformat": 4,
 "nbformat_minor": 0
}