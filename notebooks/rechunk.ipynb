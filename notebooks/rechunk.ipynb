{
 "cells": [
  {
   "cell_type": "code",
   "execution_count": null,
   "metadata": {
    "collapsed": true
   },
   "outputs": [],
   "source": [
    "import os\n",
    "from eis.rechunk import Rechunker\n",
    "from eis.cluster import dcm\n",
    "dcm().init_cluster( processes=True )"
   ]
  },
  {
   "cell_type": "code",
   "execution_count": null,
   "outputs": [],
   "source": [
    "bucket = 'eis-dh-hydro'\n",
    "routing_key = 'LIS/OL_1km/ROUTING/LIS_HIST.d01'\n",
    "chunk_sizes = dict( time=100, east_west=100, north_south=100 )\n",
    "output_dir = os.path.expanduser( \"~/efs/data/rechunk\" )\n",
    "cache_dir   = os.path.expanduser( \"~/efs/data/cache\" )\n",
    "max_memory = \"500MB\"     # Max memory per worker\n",
    "\n",
    "rechunker = Rechunker.from_smce( bucket, routing_key )\n",
    "rechunker.dset"
   ],
   "metadata": {
    "collapsed": false,
    "pycharm": {
     "name": "#%%\n"
    }
   }
  },
  {
   "cell_type": "code",
   "execution_count": null,
   "outputs": [],
   "source": [
    "rechunker.rechunk( chunk_sizes, target_store=output_dir, temp_store=cache_dir, max_memory=max_memory )\n"
   ],
   "metadata": {
    "collapsed": false,
    "pycharm": {
     "name": "#%%\n"
    }
   }
  }
 ],
 "metadata": {
  "kernelspec": {
   "display_name": "Python 3",
   "language": "python",
   "name": "python3"
  },
  "language_info": {
   "codemirror_mode": {
    "name": "ipython",
    "version": 2
   },
   "file_extension": ".py",
   "mimetype": "text/x-python",
   "name": "python",
   "nbconvert_exporter": "python",
   "pygments_lexer": "ipython2",
   "version": "2.7.6"
  }
 },
 "nbformat": 4,
 "nbformat_minor": 0
}