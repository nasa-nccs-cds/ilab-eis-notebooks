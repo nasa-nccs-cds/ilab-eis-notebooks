{
 "cells": [
  {
   "cell_type": "code",
   "execution_count": null,
   "outputs": [],
   "source": [
    "from  eis.lis.data.gage import LISGageDataset\n",
    "from glob import glob\n",
    "from eis.lis.data.routing import LISRoutingData\n",
    "from eis.lis.data.combined import LISCombinedDataset\n",
    "import geoviews as gv\n",
    "gv.extension('bokeh')"
   ],
   "metadata": {
    "collapsed": false,
    "pycharm": {
     "name": "#%%\n"
    }
   }
  },
  {
   "cell_type": "code",
   "execution_count": null,
   "outputs": [],
   "source": [
    "bucket = 'eis-dh-hydro'\n",
    "routing_key = 'LIS/rechunk-test4/OL_1km/ROUTING/LIS_HIST.d01'\n",
    "gage_header_file = '../data/mississippi-river-delta/usgs_streamflow/header_miss_delta_010.txt'\n",
    "gage_files = sorted( glob('../data/mississippi-river-delta/usgs_streamflow/*[0-9][0-9][0-9][0-9].txt') )"
   ],
   "metadata": {
    "collapsed": false,
    "pycharm": {
     "name": "#%%\n"
    }
   }
  },
  {
   "cell_type": "code",
   "execution_count": null,
   "outputs": [],
   "source": [
    "routing_dataset = LISRoutingData.from_smce( bucket, routing_key )\n",
    "routing_dataset.dset"
   ],
   "metadata": {
    "collapsed": false,
    "pycharm": {
     "name": "#%%\n"
    }
   }
  },
  {
   "cell_type": "code",
   "execution_count": null,
   "outputs": [],
   "source": [
    "gage_dataset = LISGageDataset( gage_header_file, gage_files )\n",
    "gage_dataset.header"
   ],
   "metadata": {
    "collapsed": false,
    "pycharm": {
     "name": "#%%\n"
    }
   }
  },
  {
   "cell_type": "code",
   "execution_count": null,
   "outputs": [],
   "source": [
    "combined_dataset = LISCombinedDataset( gage_dataset, routing_dataset )\n",
    "f\"Variables = {combined_dataset.var_names}\""
   ],
   "metadata": {
    "collapsed": false,
    "pycharm": {
     "name": "#%%\n"
    }
   }
  },
  {
   "cell_type": "code",
   "execution_count": null,
   "outputs": [],
   "source": [
    "streamflow = combined_dataset.get_variable(\"Streamflow_tavg\")\n",
    "agg_streamflow = streamflow.rolling( time = 5 ).mean()\n",
    "combined_dataset.add_variable( \"Streamflow_tavg.agg\", agg_streamflow )\n",
    "f\"Variables = {combined_dataset.var_names}\""
   ],
   "metadata": {
    "collapsed": false,
    "pycharm": {
     "name": "#%%\n"
    }
   }
  },
  {
   "cell_type": "code",
   "execution_count": null,
   "outputs": [],
   "source": [
    "combined_dataset.plot()\n",
    "\n"
   ],
   "metadata": {
    "collapsed": false,
    "pycharm": {
     "name": "#%%\n"
    }
   }
  }
 ],
 "metadata": {
  "kernelspec": {
   "display_name": "Python 3",
   "language": "python",
   "name": "python3"
  },
  "language_info": {
   "codemirror_mode": {
    "name": "ipython",
    "version": 2
   },
   "file_extension": ".py",
   "mimetype": "text/x-python",
   "name": "python",
   "nbconvert_exporter": "python",
   "pygments_lexer": "ipython2",
   "version": "2.7.6"
  }
 },
 "nbformat": 4,
 "nbformat_minor": 0
}